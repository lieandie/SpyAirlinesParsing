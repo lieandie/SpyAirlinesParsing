{
 "cells": [
  {
   "cell_type": "code",
   "execution_count": 1,
   "metadata": {},
   "outputs": [],
   "source": [
    "import pandas as pd"
   ]
  },
  {
   "cell_type": "code",
   "execution_count": 2,
   "metadata": {},
   "outputs": [],
   "source": [
    "loyalties_exchange = pd.read_csv(\"assets/SkyTeam-Exchange.card.csv\", sep=\",\")\n",
    "flight_exchange = pd.read_csv(\"assets/SkyTeam-Exchange.flight.csv\", sep=\",\")\n",
    "sit_exchange = pd.read_csv(\"assets/SkyTeam-Exchange.sit.csv\", sep=\",\")"
   ]
  },
  {
   "cell_type": "code",
   "execution_count": 4,
   "metadata": {},
   "outputs": [
    {
     "data": {
      "text/html": [
       "<div>\n",
       "<style scoped>\n",
       "    .dataframe tbody tr th:only-of-type {\n",
       "        vertical-align: middle;\n",
       "    }\n",
       "\n",
       "    .dataframe tbody tr th {\n",
       "        vertical-align: top;\n",
       "    }\n",
       "\n",
       "    .dataframe thead th {\n",
       "        text-align: right;\n",
       "    }\n",
       "</style>\n",
       "<table border=\"1\" class=\"dataframe\">\n",
       "  <thead>\n",
       "    <tr style=\"text-align: right;\">\n",
       "      <th></th>\n",
       "      <th>id</th>\n",
       "      <th>flight_id</th>\n",
       "    </tr>\n",
       "  </thead>\n",
       "  <tbody>\n",
       "    <tr>\n",
       "      <th>0</th>\n",
       "      <td>sdf,d fg</td>\n",
       "      <td>AF1145</td>\n",
       "    </tr>\n",
       "    <tr>\n",
       "      <th>1</th>\n",
       "      <td>FB 18427809</td>\n",
       "      <td>AF1844</td>\n",
       "    </tr>\n",
       "    <tr>\n",
       "      <th>2</th>\n",
       "      <td>KE 993927664</td>\n",
       "      <td>AF4855</td>\n",
       "    </tr>\n",
       "    <tr>\n",
       "      <th>3</th>\n",
       "      <td>SU 789402704</td>\n",
       "      <td>AF4901</td>\n",
       "    </tr>\n",
       "    <tr>\n",
       "      <th>4</th>\n",
       "      <td>KE 352734424</td>\n",
       "      <td>AZ545</td>\n",
       "    </tr>\n",
       "  </tbody>\n",
       "</table>\n",
       "</div>"
      ],
      "text/plain": [
       "             id flight_id\n",
       "0      sdf,d fg    AF1145\n",
       "1   FB 18427809    AF1844\n",
       "2  KE 993927664    AF4855\n",
       "3  SU 789402704    AF4901\n",
       "4  KE 352734424     AZ545"
      ]
     },
     "execution_count": 4,
     "metadata": {},
     "output_type": "execute_result"
    }
   ],
   "source": [
    "loyalties_exchange.head()"
   ]
  },
  {
   "cell_type": "code",
   "execution_count": 5,
   "metadata": {},
   "outputs": [
    {
     "data": {
      "text/html": [
       "<div>\n",
       "<style scoped>\n",
       "    .dataframe tbody tr th:only-of-type {\n",
       "        vertical-align: middle;\n",
       "    }\n",
       "\n",
       "    .dataframe tbody tr th {\n",
       "        vertical-align: top;\n",
       "    }\n",
       "\n",
       "    .dataframe thead th {\n",
       "        text-align: right;\n",
       "    }\n",
       "</style>\n",
       "<table border=\"1\" class=\"dataframe\">\n",
       "  <thead>\n",
       "    <tr style=\"text-align: right;\">\n",
       "      <th></th>\n",
       "      <th>id</th>\n",
       "      <th>date</th>\n",
       "      <th>from</th>\n",
       "      <th>status</th>\n",
       "      <th>to</th>\n",
       "    </tr>\n",
       "  </thead>\n",
       "  <tbody>\n",
       "    <tr>\n",
       "      <th>0</th>\n",
       "      <td>AF1145</td>\n",
       "      <td>2017-01-01</td>\n",
       "      <td>SVO</td>\n",
       "      <td>LANDED</td>\n",
       "      <td>CDG</td>\n",
       "    </tr>\n",
       "    <tr>\n",
       "      <th>1</th>\n",
       "      <td>AF1844</td>\n",
       "      <td>2017-01-01</td>\n",
       "      <td>SVO</td>\n",
       "      <td>LANDED</td>\n",
       "      <td>CDG</td>\n",
       "    </tr>\n",
       "    <tr>\n",
       "      <th>2</th>\n",
       "      <td>AF4855</td>\n",
       "      <td>2017-01-01</td>\n",
       "      <td>SVO</td>\n",
       "      <td>LANDED</td>\n",
       "      <td>CDG</td>\n",
       "    </tr>\n",
       "    <tr>\n",
       "      <th>3</th>\n",
       "      <td>AF4901</td>\n",
       "      <td>2017-01-01</td>\n",
       "      <td>SVO</td>\n",
       "      <td>LANDED</td>\n",
       "      <td>CDG</td>\n",
       "    </tr>\n",
       "    <tr>\n",
       "      <th>4</th>\n",
       "      <td>AZ545</td>\n",
       "      <td>2017-01-01</td>\n",
       "      <td>SVO</td>\n",
       "      <td>LANDED</td>\n",
       "      <td>FCO</td>\n",
       "    </tr>\n",
       "  </tbody>\n",
       "</table>\n",
       "</div>"
      ],
      "text/plain": [
       "       id        date from  status   to\n",
       "0  AF1145  2017-01-01  SVO  LANDED  CDG\n",
       "1  AF1844  2017-01-01  SVO  LANDED  CDG\n",
       "2  AF4855  2017-01-01  SVO  LANDED  CDG\n",
       "3  AF4901  2017-01-01  SVO  LANDED  CDG\n",
       "4   AZ545  2017-01-01  SVO  LANDED  FCO"
      ]
     },
     "execution_count": 5,
     "metadata": {},
     "output_type": "execute_result"
    }
   ],
   "source": [
    "flight_exchange.head()"
   ]
  },
  {
   "cell_type": "code",
   "execution_count": 6,
   "metadata": {},
   "outputs": [
    {
     "data": {
      "text/html": [
       "<div>\n",
       "<style scoped>\n",
       "    .dataframe tbody tr th:only-of-type {\n",
       "        vertical-align: middle;\n",
       "    }\n",
       "\n",
       "    .dataframe tbody tr th {\n",
       "        vertical-align: top;\n",
       "    }\n",
       "\n",
       "    .dataframe thead th {\n",
       "        text-align: right;\n",
       "    }\n",
       "</style>\n",
       "<table border=\"1\" class=\"dataframe\">\n",
       "  <thead>\n",
       "    <tr style=\"text-align: right;\">\n",
       "      <th></th>\n",
       "      <th>card_id</th>\n",
       "      <th>class</th>\n",
       "      <th>fare</th>\n",
       "    </tr>\n",
       "  </thead>\n",
       "  <tbody>\n",
       "    <tr>\n",
       "      <th>0</th>\n",
       "      <td>FB 520518073</td>\n",
       "      <td>Y</td>\n",
       "      <td>YRSTFN</td>\n",
       "    </tr>\n",
       "    <tr>\n",
       "      <th>1</th>\n",
       "      <td>FB 18427809</td>\n",
       "      <td>Y</td>\n",
       "      <td>YGRPZR</td>\n",
       "    </tr>\n",
       "    <tr>\n",
       "      <th>2</th>\n",
       "      <td>KE 993927664</td>\n",
       "      <td>Y</td>\n",
       "      <td>YRSTJQ</td>\n",
       "    </tr>\n",
       "    <tr>\n",
       "      <th>3</th>\n",
       "      <td>SU 789402704</td>\n",
       "      <td>Y</td>\n",
       "      <td>YGRPAT</td>\n",
       "    </tr>\n",
       "    <tr>\n",
       "      <th>4</th>\n",
       "      <td>KE 352734424</td>\n",
       "      <td>Y</td>\n",
       "      <td>YFLXKO</td>\n",
       "    </tr>\n",
       "  </tbody>\n",
       "</table>\n",
       "</div>"
      ],
      "text/plain": [
       "        card_id class    fare\n",
       "0  FB 520518073     Y  YRSTFN\n",
       "1   FB 18427809     Y  YGRPZR\n",
       "2  KE 993927664     Y  YRSTJQ\n",
       "3  SU 789402704     Y  YGRPAT\n",
       "4  KE 352734424     Y  YFLXKO"
      ]
     },
     "execution_count": 6,
     "metadata": {},
     "output_type": "execute_result"
    }
   ],
   "source": [
    "sit_exchange.head()"
   ]
  },
  {
   "cell_type": "code",
   "execution_count": null,
   "metadata": {},
   "outputs": [],
   "source": [
    "exchange_merged = pd.merge(flight_exchange, loyalties_exchange, how='outer', left_on='id', right_on='flight_id')"
   ]
  }
 ],
 "metadata": {
  "kernelspec": {
   "display_name": "Python 3",
   "language": "python",
   "name": "python3"
  },
  "language_info": {
   "codemirror_mode": {
    "name": "ipython",
    "version": 3
   },
   "file_extension": ".py",
   "mimetype": "text/x-python",
   "name": "python",
   "nbconvert_exporter": "python",
   "pygments_lexer": "ipython3",
   "version": "3.6.7"
  }
 },
 "nbformat": 4,
 "nbformat_minor": 1
}
