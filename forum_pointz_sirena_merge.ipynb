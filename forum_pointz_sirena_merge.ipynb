{
 "cells": [
  {
   "cell_type": "code",
   "execution_count": 6,
   "metadata": {},
   "outputs": [],
   "source": [
    "import pandas as pd\n",
    "import numpy as np"
   ]
  },
  {
   "cell_type": "code",
   "execution_count": 7,
   "metadata": {},
   "outputs": [],
   "source": [
    "from transliterate import translit, get_available_language_codes"
   ]
  },
  {
   "cell_type": "code",
   "execution_count": 24,
   "metadata": {},
   "outputs": [],
   "source": [
    "pd.options.display.width = None\n",
    "pd.options.display.max_columns=999"
   ]
  },
  {
   "cell_type": "code",
   "execution_count": 8,
   "metadata": {},
   "outputs": [],
   "source": [
    "forum_pointz_merged = pd.read_csv('assets/merged/forum_pointz.merged.csv')\n",
    "sirena = pd.read_csv('assets/Sirena-export-fixed.tab.csv', sep=\";\")"
   ]
  },
  {
   "cell_type": "code",
   "execution_count": 9,
   "metadata": {},
   "outputs": [],
   "source": [
    "forum_pointz_merged.drop(['Unnamed: 0'], axis=1, inplace=True)"
   ]
  },
  {
   "cell_type": "code",
   "execution_count": 10,
   "metadata": {},
   "outputs": [],
   "source": [
    "forum_pointz_merged['date'] = forum_pointz_merged['date'].astype('datetime64[ns]')"
   ]
  },
  {
   "cell_type": "code",
   "execution_count": null,
   "metadata": {},
   "outputs": [],
   "source": [
    "forum_pointz_merged.head()"
   ]
  },
  {
   "cell_type": "code",
   "execution_count": 11,
   "metadata": {},
   "outputs": [],
   "source": [
    "sirena.drop(['agent_info', 'seat', 'meal'], axis=1, inplace=True)"
   ]
  },
  {
   "cell_type": "code",
   "execution_count": 12,
   "metadata": {},
   "outputs": [],
   "source": [
    "sirena['depart_date'] = sirena['depart_date'].astype('datetime64[ns]')\n",
    "sirena['arrival_date'] = sirena['arrival_date'].astype('datetime64[ns]')"
   ]
  },
  {
   "cell_type": "code",
   "execution_count": 13,
   "metadata": {},
   "outputs": [],
   "source": [
    "sirena['e_ticket'] = sirena['e_ticket'].astype(str)"
   ]
  },
  {
   "cell_type": "code",
   "execution_count": null,
   "metadata": {},
   "outputs": [],
   "source": [
    "sirena.head()"
   ]
  },
  {
   "cell_type": "code",
   "execution_count": 28,
   "metadata": {},
   "outputs": [],
   "source": [
    "merged = pd.merge(forum_pointz_merged, sirena, how='outer', left_on=['number', 'date', 'flight'], right_on=['card_number', 'depart_date', 'flight'])"
   ]
  },
  {
   "cell_type": "code",
   "execution_count": 29,
   "metadata": {},
   "outputs": [],
   "source": [
    "merged.drop(['fare_x', 'fare_y', 'depart_time', 'arrival_time'], axis=1, inplace=True)"
   ]
  },
  {
   "cell_type": "code",
   "execution_count": 50,
   "metadata": {},
   "outputs": [
    {
     "data": {
      "text/html": [
       "<div>\n",
       "<style scoped>\n",
       "    .dataframe tbody tr th:only-of-type {\n",
       "        vertical-align: middle;\n",
       "    }\n",
       "\n",
       "    .dataframe tbody tr th {\n",
       "        vertical-align: top;\n",
       "    }\n",
       "\n",
       "    .dataframe thead th {\n",
       "        text-align: right;\n",
       "    }\n",
       "</style>\n",
       "<table border=\"1\" class=\"dataframe\">\n",
       "  <thead>\n",
       "    <tr style=\"text-align: right;\">\n",
       "      <th></th>\n",
       "      <th>sex</th>\n",
       "      <th>first_name</th>\n",
       "      <th>last_name</th>\n",
       "      <th>flight</th>\n",
       "      <th>date</th>\n",
       "      <th>codeshare</th>\n",
       "      <th>country_arrival</th>\n",
       "      <th>city_arrival</th>\n",
       "      <th>airport_arrival</th>\n",
       "      <th>country_departure</th>\n",
       "      <th>city_departure</th>\n",
       "      <th>airport_departure</th>\n",
       "      <th>status</th>\n",
       "      <th>number</th>\n",
       "      <th>birth_date</th>\n",
       "      <th>depart_date</th>\n",
       "      <th>arrival_date</th>\n",
       "      <th>code_share</th>\n",
       "      <th>code</th>\n",
       "      <th>e_ticket</th>\n",
       "      <th>document</th>\n",
       "      <th>class</th>\n",
       "      <th>baggage</th>\n",
       "      <th>additional_info</th>\n",
       "    </tr>\n",
       "  </thead>\n",
       "  <tbody>\n",
       "    <tr>\n",
       "      <th>0</th>\n",
       "      <td>Male</td>\n",
       "      <td></td>\n",
       "      <td>nan</td>\n",
       "      <td>DL3377</td>\n",
       "      <td>2017-03-04</td>\n",
       "      <td>False</td>\n",
       "      <td>United States of</td>\n",
       "      <td>Pittsburgh PA</td>\n",
       "      <td>PIT</td>\n",
       "      <td>United States of</td>\n",
       "      <td>Boston MA</td>\n",
       "      <td>BOS</td>\n",
       "      <td>Basic</td>\n",
       "      <td>KE 889215424</td>\n",
       "      <td>NaN</td>\n",
       "      <td>NaT</td>\n",
       "      <td>NaT</td>\n",
       "      <td>NaN</td>\n",
       "      <td>NaN</td>\n",
       "      <td>NaN</td>\n",
       "      <td>NaN</td>\n",
       "      <td>NaN</td>\n",
       "      <td>NaN</td>\n",
       "      <td>NaN</td>\n",
       "    </tr>\n",
       "    <tr>\n",
       "      <th>1</th>\n",
       "      <td>Male</td>\n",
       "      <td></td>\n",
       "      <td>nan</td>\n",
       "      <td>DL3377</td>\n",
       "      <td>2017-03-04</td>\n",
       "      <td>False</td>\n",
       "      <td>United States of</td>\n",
       "      <td>Pittsburgh PA</td>\n",
       "      <td>PIT</td>\n",
       "      <td>United States of</td>\n",
       "      <td>Boston MA</td>\n",
       "      <td>BOS</td>\n",
       "      <td>Elite+</td>\n",
       "      <td>DT 484697244</td>\n",
       "      <td>NaN</td>\n",
       "      <td>NaT</td>\n",
       "      <td>NaT</td>\n",
       "      <td>NaN</td>\n",
       "      <td>NaN</td>\n",
       "      <td>NaN</td>\n",
       "      <td>NaN</td>\n",
       "      <td>NaN</td>\n",
       "      <td>NaN</td>\n",
       "      <td>NaN</td>\n",
       "    </tr>\n",
       "    <tr>\n",
       "      <th>2</th>\n",
       "      <td>Male</td>\n",
       "      <td></td>\n",
       "      <td>nan</td>\n",
       "      <td>DL3598</td>\n",
       "      <td>2017-07-30</td>\n",
       "      <td>False</td>\n",
       "      <td>United States of</td>\n",
       "      <td>Evansville IN</td>\n",
       "      <td>EVV</td>\n",
       "      <td>United States of</td>\n",
       "      <td>Detroit MI</td>\n",
       "      <td>DTW</td>\n",
       "      <td>Basic</td>\n",
       "      <td>KE 889215424</td>\n",
       "      <td>NaN</td>\n",
       "      <td>NaT</td>\n",
       "      <td>NaT</td>\n",
       "      <td>NaN</td>\n",
       "      <td>NaN</td>\n",
       "      <td>NaN</td>\n",
       "      <td>NaN</td>\n",
       "      <td>NaN</td>\n",
       "      <td>NaN</td>\n",
       "      <td>NaN</td>\n",
       "    </tr>\n",
       "    <tr>\n",
       "      <th>3</th>\n",
       "      <td>Male</td>\n",
       "      <td></td>\n",
       "      <td>nan</td>\n",
       "      <td>DL3598</td>\n",
       "      <td>2017-07-30</td>\n",
       "      <td>False</td>\n",
       "      <td>United States of</td>\n",
       "      <td>Evansville IN</td>\n",
       "      <td>EVV</td>\n",
       "      <td>United States of</td>\n",
       "      <td>Detroit MI</td>\n",
       "      <td>DTW</td>\n",
       "      <td>Elite+</td>\n",
       "      <td>DT 484697244</td>\n",
       "      <td>NaN</td>\n",
       "      <td>NaT</td>\n",
       "      <td>NaT</td>\n",
       "      <td>NaN</td>\n",
       "      <td>NaN</td>\n",
       "      <td>NaN</td>\n",
       "      <td>NaN</td>\n",
       "      <td>NaN</td>\n",
       "      <td>NaN</td>\n",
       "      <td>NaN</td>\n",
       "    </tr>\n",
       "    <tr>\n",
       "      <th>4</th>\n",
       "      <td>Male</td>\n",
       "      <td></td>\n",
       "      <td>nan</td>\n",
       "      <td>DL5498</td>\n",
       "      <td>2017-03-31</td>\n",
       "      <td>False</td>\n",
       "      <td>United States of</td>\n",
       "      <td>Birmingham AI</td>\n",
       "      <td>BHM</td>\n",
       "      <td>United States of</td>\n",
       "      <td>New York NY</td>\n",
       "      <td>LGA</td>\n",
       "      <td>Basic</td>\n",
       "      <td>KE 889215424</td>\n",
       "      <td>NaN</td>\n",
       "      <td>NaT</td>\n",
       "      <td>NaT</td>\n",
       "      <td>NaN</td>\n",
       "      <td>NaN</td>\n",
       "      <td>NaN</td>\n",
       "      <td>NaN</td>\n",
       "      <td>NaN</td>\n",
       "      <td>NaN</td>\n",
       "      <td>NaN</td>\n",
       "    </tr>\n",
       "  </tbody>\n",
       "</table>\n",
       "</div>"
      ],
      "text/plain": [
       "    sex first_name last_name  flight       date codeshare   country_arrival  \\\n",
       "0  Male                  nan  DL3377 2017-03-04     False  United States of   \n",
       "1  Male                  nan  DL3377 2017-03-04     False  United States of   \n",
       "2  Male                  nan  DL3598 2017-07-30     False  United States of   \n",
       "3  Male                  nan  DL3598 2017-07-30     False  United States of   \n",
       "4  Male                  nan  DL5498 2017-03-31     False  United States of   \n",
       "\n",
       "    city_arrival airport_arrival country_departure city_departure  \\\n",
       "0  Pittsburgh PA             PIT  United States of      Boston MA   \n",
       "1  Pittsburgh PA             PIT  United States of      Boston MA   \n",
       "2  Evansville IN             EVV  United States of     Detroit MI   \n",
       "3  Evansville IN             EVV  United States of     Detroit MI   \n",
       "4  Birmingham AI             BHM  United States of    New York NY   \n",
       "\n",
       "  airport_departure  status        number birth_date depart_date arrival_date  \\\n",
       "0               BOS   Basic  KE 889215424        NaN         NaT          NaT   \n",
       "1               BOS  Elite+  DT 484697244        NaN         NaT          NaT   \n",
       "2               DTW   Basic  KE 889215424        NaN         NaT          NaT   \n",
       "3               DTW  Elite+  DT 484697244        NaN         NaT          NaT   \n",
       "4               LGA   Basic  KE 889215424        NaN         NaT          NaT   \n",
       "\n",
       "  code_share code e_ticket document class baggage additional_info  \n",
       "0        NaN  NaN      NaN      NaN   NaN     NaN             NaN  \n",
       "1        NaN  NaN      NaN      NaN   NaN     NaN             NaN  \n",
       "2        NaN  NaN      NaN      NaN   NaN     NaN             NaN  \n",
       "3        NaN  NaN      NaN      NaN   NaN     NaN             NaN  \n",
       "4        NaN  NaN      NaN      NaN   NaN     NaN             NaN  "
      ]
     },
     "execution_count": 50,
     "metadata": {},
     "output_type": "execute_result"
    }
   ],
   "source": [
    "merged.head()"
   ]
  },
  {
   "cell_type": "code",
   "execution_count": 30,
   "metadata": {},
   "outputs": [],
   "source": [
    "merged['last_name'] = merged['last_name'].fillna('')\n",
    "merged['first_name'] = merged['first_name'].fillna('')\n",
    "merged['last_name'] = merged['last_name'].astype(str)\n",
    "merged['first_name'] = merged['first_name'].astype(str)\n",
    "merged['name'] = merged['name'].astype(str)"
   ]
  },
  {
   "cell_type": "code",
   "execution_count": 36,
   "metadata": {},
   "outputs": [],
   "source": [
    "for index, row in merged.iterrows():\n",
    "    cyr_name = row['name'].split(' ')\n",
    "    if cyr_name:\n",
    "        if len(cyr_name) > 0:\n",
    "            merged.at[index, 'last_name'] = translit(cyr_name[0], 'ru', reversed=True)\n",
    "        if len(cyr_name) > 1:\n",
    "            merged.at[index, 'first_name'] = translit(cyr_name[1], 'ru', reversed=True)"
   ]
  },
  {
   "cell_type": "code",
   "execution_count": 40,
   "metadata": {},
   "outputs": [],
   "source": [
    "merged.drop(['name'], axis=1, inplace=True)"
   ]
  },
  {
   "cell_type": "code",
   "execution_count": 43,
   "metadata": {},
   "outputs": [],
   "source": [
    "airport_arrival_null = merged.airport_arrival.isnull()\n",
    "airport_departure_null = merged.airport_departure.isnull()\n",
    "number_null = merged.number.isnull()\n",
    "\n",
    "merged.loc[merged[airport_arrival_null].index, 'airport_arrival'] = merged.loc[merged[airport_arrival_null].index, 'dest_code']\n",
    "merged.loc[merged[airport_departure_null].index, 'airport_departure'] = merged.loc[merged[airport_departure_null].index, 'from_code']\n",
    "merged.loc[merged[number_null].index, 'number'] = merged.loc[merged[number_null].index, 'card_number']"
   ]
  },
  {
   "cell_type": "code",
   "execution_count": 44,
   "metadata": {},
   "outputs": [],
   "source": [
    "merged.drop(['dest_code', 'from_code', 'card_number'], axis=1, inplace=True)"
   ]
  },
  {
   "cell_type": "code",
   "execution_count": 51,
   "metadata": {},
   "outputs": [],
   "source": [
    "date_null = merged.date.isnull()\n",
    "\n",
    "merged.loc[merged[date_null].index, 'date'] = merged.loc[merged[date_null].index, 'depart_date']"
   ]
  },
  {
   "cell_type": "code",
   "execution_count": 52,
   "metadata": {},
   "outputs": [],
   "source": [
    "merged.drop(['depart_date'], axis=1, inplace=True)"
   ]
  },
  {
   "cell_type": "code",
   "execution_count": 53,
   "metadata": {},
   "outputs": [],
   "source": [
    "merged.rename(columns={'date': 'depart_date'}, inplace=True)"
   ]
  },
  {
   "cell_type": "code",
   "execution_count": 54,
   "metadata": {},
   "outputs": [],
   "source": [
    "merged.to_csv('assets/merged/forum_pointz_sirena.merged.csv')"
   ]
  }
 ],
 "metadata": {
  "kernelspec": {
   "display_name": "Python 3",
   "language": "python",
   "name": "python3"
  },
  "language_info": {
   "codemirror_mode": {
    "name": "ipython",
    "version": 3
   },
   "file_extension": ".py",
   "mimetype": "text/x-python",
   "name": "python",
   "nbconvert_exporter": "python",
   "pygments_lexer": "ipython3",
   "version": "3.6.7"
  }
 },
 "nbformat": 4,
 "nbformat_minor": 2
}
